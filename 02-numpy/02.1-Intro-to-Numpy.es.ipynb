{
  "cells": [
    {
      "cell_type": "markdown",
      "metadata": {
        "id": "view-in-github",
        "colab_type": "text"
      },
      "source": [
        "<a href=\"https://colab.research.google.com/github/dromanf/CRM/blob/master/02-numpy/02.1-Intro-to-Numpy.es.ipynb\" target=\"_parent\"><img src=\"https://colab.research.google.com/assets/colab-badge.svg\" alt=\"Open In Colab\"/></a>"
      ]
    },
    {
      "cell_type": "markdown",
      "id": "bdfbcacc",
      "metadata": {
        "id": "bdfbcacc"
      },
      "source": [
        "![Logo de NumPy](https://github.com/4GeeksAcademy/machine-learning-prework/blob/main/02-numpy/assets/numpy_logo.png?raw=true)\n",
        "\n",
        "## Introducción a NumPy\n",
        "\n",
        "`NumPy` es un juego de palabras que significa **Python numérico** (*Numerical Python*). Es una librería de código abierto que se utiliza para llevar a cabo tareas matemáticas con altísima eficiencia. Además, introduce estructuras de datos como los arrays multidimensionales, que se pueden operar entre ellos a alto nivel, sin meterse mucho en el detalle.\n",
        "\n",
        "En concreto, las claves de esta librería son:\n",
        "\n",
        "- **Array multidimensionales**: Esta librería proporciona un objeto llamado `ndarray`, que permite almacenar y manipular grandes conjuntos de datos de forma eficiente. Los arrays pueden tener cualquier número de dimensiones.\n",
        "- **Operaciones Vectorizadas**: NumPy permite realizar operaciones matemáticas en arrays completos sin la necesidad de bucles explícitos en el código, lo que lo hace muy rápido y eficiente.\n",
        "- **Funciones matemáticas**: NumPy proporciona una amplia gama de funciones matemáticas para trabajar con arrays, incluyendo funciones trigonométricas, estadísticas, álgebra lineal, entre otras.\n",
        "- **Eficiencia**: Es mucho más rápido que la misma funcionalidad implementada directamente sobre Python nativo. Además, es muy flexible en términos de acceso y manipulación de elementos individuales o subconjuntos de arrays.\n",
        "\n",
        "NumPy es una biblioteca fundamental para el Machine Learning y la ciencia de los datos en Python. Proporciona una amplia gama de herramientas y funciones para trabajar eficientemente con datos numéricos en forma de arrays y matrices."
      ]
    },
    {
      "cell_type": "markdown",
      "id": "dc410026",
      "metadata": {
        "id": "dc410026"
      },
      "source": [
        "### Arrays\n",
        "\n",
        "Un **array** de NumPy es una estructura de datos que permite almacenar una colección de elementos, generalmente números, en una o más dimensiones.\n",
        "\n",
        "#### Array unidimensional\n",
        "\n",
        "Un array unidimensional (1D) de NumPy es una estructura de datos que contiene una secuencia de elementos en una única dimensión. Es similar a una lista en Python, pero con las ventajas de rendimiento y funcionalidad que ofrece NumPy.\n",
        "\n",
        "![Array de una dimensión](https://github.com/4GeeksAcademy/machine-learning-prework/blob/main/02-numpy/assets/1D.png?raw=true \"1D\")\n",
        "\n",
        "Un array 1D puede ser creado usando la función `array` de la librería con una lista de elementos como argumento. Por ejemplo:"
      ]
    },
    {
      "cell_type": "code",
      "execution_count": null,
      "id": "d8a0686b",
      "metadata": {
        "id": "d8a0686b",
        "outputId": "c3cb1e00-018a-4a16-e765-6ad45fecf479"
      },
      "outputs": [
        {
          "data": {
            "text/plain": [
              "array([1, 2, 3, 4, 5])"
            ]
          },
          "execution_count": 1,
          "metadata": {},
          "output_type": "execute_result"
        }
      ],
      "source": [
        "import numpy as np\n",
        "\n",
        "array = np.array([1, 2, 3, 4, 5])\n",
        "array"
      ]
    },
    {
      "cell_type": "markdown",
      "id": "e090f7a0",
      "metadata": {
        "id": "e090f7a0"
      },
      "source": [
        "Esto creará un array 1D con los elementos 1, 2, 3, 4 y 5. Los elementos del array deben ser del mismo tipo de datos. Si los elementos son de diferentes tipos, NumPy intentará convertirlos al mismo tipo si es posible.\n",
        "\n",
        "En un array 1D, podemos acceder a los elementos usando **índices** (*indexes*), modificarlos y realizar operaciones matemáticas en el array completo de forma eficiente. A continuación se muestran algunas operaciones que se pueden realizar utilizando el array anterior:"
      ]
    },
    {
      "cell_type": "code",
      "execution_count": null,
      "id": "a56cb1b0",
      "metadata": {
        "id": "a56cb1b0",
        "outputId": "0253a6db-34d2-47b0-b875-4a5440be8fcf"
      },
      "outputs": [
        {
          "name": "stdout",
          "output_type": "stream",
          "text": [
            "3\n",
            "[1 7 3 4 5]\n",
            "[11 17 13 14 15]\n",
            "70\n"
          ]
        }
      ],
      "source": [
        "# Acceder al tercer elemento\n",
        "print(array[2])\n",
        "\n",
        "# Cambiar el valor del segundo elemento\n",
        "array[1] = 7\n",
        "print(array)\n",
        "\n",
        "# Sumar 10 a todos los elementos\n",
        "array += 10\n",
        "print(array)\n",
        "\n",
        "# Calcular la suma de los elementos\n",
        "sum_all = np.sum(array)\n",
        "print(sum_all)"
      ]
    },
    {
      "cell_type": "markdown",
      "id": "322771b1",
      "metadata": {
        "id": "322771b1"
      },
      "source": [
        "#### Array N-dimensional\n",
        "\n",
        "Un array multidimensional o n-dimensional en NumPy es una estructura de datos que organiza elementos en múltiples dimensiones (ejes). Estos arrays permiten representar estructuras de datos más complejas, como matrices (array 2D, 2 ejes), tensores (array 3D, 3 ejes) y estructuras de mayor dimensión.\n",
        "\n",
        "![Arrays de diferentes dimensiones](https://github.com/4GeeksAcademy/machine-learning-prework/blob/main/02-numpy/assets/3D.png?raw=true \"3D\")\n",
        "\n",
        "Un array N-dimensional puede ser creado también usando la función `array` de la librería. Por ejemplo, si queremos crear un array 2D:"
      ]
    },
    {
      "cell_type": "code",
      "execution_count": null,
      "id": "2033ba3c",
      "metadata": {
        "id": "2033ba3c",
        "outputId": "ecc7dba5-79e5-4aa3-fde8-f359dc2cda50"
      },
      "outputs": [
        {
          "data": {
            "text/plain": [
              "array([[1, 2, 3],\n",
              "       [4, 5, 6],\n",
              "       [7, 8, 9]])"
            ]
          },
          "execution_count": 3,
          "metadata": {},
          "output_type": "execute_result"
        }
      ],
      "source": [
        "array_2d = np.array([[1, 2, 3], [4, 5, 6], [7, 8, 9]])\n",
        "array_2d"
      ]
    },
    {
      "cell_type": "markdown",
      "id": "d3dac6c2",
      "metadata": {
        "id": "d3dac6c2"
      },
      "source": [
        "Si ahora quisiéramos crear un array 3D, tendríamos que pensar en él como una lista de matrices:"
      ]
    },
    {
      "cell_type": "code",
      "execution_count": null,
      "id": "bc914841",
      "metadata": {
        "id": "bc914841",
        "outputId": "ec480422-d116-4b4b-a785-b52f70cfef42"
      },
      "outputs": [
        {
          "data": {
            "text/plain": [
              "array([[[1, 2],\n",
              "        [3, 4]],\n",
              "\n",
              "       [[5, 6],\n",
              "        [7, 8]]])"
            ]
          },
          "execution_count": 4,
          "metadata": {},
          "output_type": "execute_result"
        }
      ],
      "source": [
        "array_3d = np.array([[[1, 2], [3, 4]], [[5, 6], [7, 8]]])\n",
        "array_3d"
      ]
    },
    {
      "cell_type": "markdown",
      "id": "da7bcb64",
      "metadata": {
        "id": "da7bcb64"
      },
      "source": [
        "Al igual que sucedía con los arrays 1D, los elementos en un array multidimensional son accesibles mediante índices, se pueden realizar operaciones con ellos, etcétera.\n",
        "\n",
        "A medida que agregamos más dimensiones, el principio básico sigue siendo el mismo: cada dimensión adicional puede considerarse como un nivel adicional de anidamiento. Sin embargo, a nivel práctico, trabajar con arrays de más de 3 o 4 dimensiones puede volverse más complejo y menos intuitivo.\n",
        "\n",
        "Los arrays n-dimensionales en NumPy permiten una gran flexibilidad y potencia para representar y manipular datos en formas más complejas, especialmente útiles en campos como la ciencia de los datos, procesamiento de imágenes y aprendizaje profundo."
      ]
    },
    {
      "cell_type": "markdown",
      "id": "d699ac98",
      "metadata": {
        "id": "d699ac98"
      },
      "source": [
        "### Funciones\n",
        "\n",
        "NumPy proporciona una gran cantidad de funciones predefinidas y que se pueden aplicar directamente sobre las estructuras de datos vistas anteriormente o las propias de Python (listas, matrices, etcétera). Algunas de las más utilizadas en el análisis de datos son:"
      ]
    },
    {
      "cell_type": "code",
      "execution_count": null,
      "id": "e7680306",
      "metadata": {
        "id": "e7680306",
        "outputId": "e5cd299b-1194-41c4-968f-49961a606390"
      },
      "outputs": [
        {
          "name": "stdout",
          "output_type": "stream",
          "text": [
            "Suma: [ 6  7  8  9 10]\n",
            "Producto: [ 3  6  9 12 15]\n",
            "Logaritmo natural: [0.         0.69314718 1.09861229 1.38629436 1.60943791]\n",
            "Exponencial: [  2.71828183   7.3890561   20.08553692  54.59815003 148.4131591 ]\n",
            "Media: 3.0\n",
            "Mediana: 3.0\n",
            "Desviación estándar: 1.4142135623730951\n",
            "Varianza: 2.0\n",
            "Máximo valor: 5\n",
            "Índice del máximo valor: 4\n",
            "Mínimo valor: 1\n",
            "Índice del mínimo valor: 0\n",
            "Suma de todos los elementos: 15\n",
            "Redondeo: [1. 2. 4. 5.]\n",
            "Entero menor (floor): [1. 2. 3. 4.]\n",
            "Entero mayor (ceil): [2. 3. 4. 5.]\n"
          ]
        }
      ],
      "source": [
        "import numpy as np\n",
        "\n",
        "# Crear un array para el ejemplo\n",
        "arr = np.array([1, 2, 3, 4, 5])\n",
        "\n",
        "# Operaciones Aritméticas\n",
        "print(\"Suma:\", np.add(arr, 5))\n",
        "print(\"Producto:\", np.multiply(arr, 3))\n",
        "\n",
        "# Logarítmicas y Exponenciales\n",
        "print(\"Logaritmo natural:\", np.log(arr))\n",
        "print(\"Exponencial:\", np.exp(arr))\n",
        "\n",
        "# Funciones Estadísticas\n",
        "print(\"Media:\", np.mean(arr))\n",
        "print(\"Mediana:\", np.median(arr))\n",
        "print(\"Desviación estándar:\", np.std(arr))\n",
        "print(\"Varianza:\", np.var(arr))\n",
        "print(\"Máximo valor:\", np.max(arr))\n",
        "print(\"Índice del máximo valor:\", np.argmax(arr))\n",
        "print(\"Mínimo valor:\", np.min(arr))\n",
        "print(\"Índice del mínimo valor:\", np.argmin(arr))\n",
        "print(\"Suma de todos los elementos:\", np.sum(arr))\n",
        "\n",
        "# Funciones de Redondeo\n",
        "arr_decimal = np.array([1.23, 2.47, 3.56, 4.89])\n",
        "print(\"Redondeo:\", np.around(arr_decimal))\n",
        "print(\"Entero menor (floor):\", np.floor(arr_decimal))\n",
        "print(\"Entero mayor (ceil):\", np.ceil(arr_decimal))"
      ]
    },
    {
      "cell_type": "markdown",
      "id": "51b5cda3",
      "metadata": {
        "id": "51b5cda3"
      },
      "source": [
        "## Ejercicios: Haz clic en \"open in colab\" para realizarlos\n",
        "\n",
        "> Solución: https://github.com/4GeeksAcademy/machine-learning-prework/blob/main/02-numpy/02.1-Intro-to-Numpy_solutions.ipynb\n",
        "\n",
        "### Creación de arrays"
      ]
    },
    {
      "cell_type": "markdown",
      "id": "e3c20b3d",
      "metadata": {
        "id": "e3c20b3d"
      },
      "source": [
        "#### Ejercicio 01:  Crea un **vector nulo** (*null vector*) que tenga 10 elementos (★☆☆)\n",
        "\n",
        "Un vector nulo es un array de una dimensión compuesto por ceros (`0`).\n",
        "\n",
        "> NOTA: Revisa la función `np.zeros` (https://numpy.org/doc/stable/reference/generated/numpy.zeros.html)"
      ]
    },
    {
      "cell_type": "code",
      "execution_count": 10,
      "id": "8a758bcf",
      "metadata": {
        "id": "8a758bcf",
        "outputId": "20b87c57-f398-46d2-8ef3-d813c1ff2d44",
        "colab": {
          "base_uri": "https://localhost:8080/"
        }
      },
      "outputs": [
        {
          "output_type": "stream",
          "name": "stdout",
          "text": [
            "[0. 0. 0. 0. 0. 0. 0. 0. 0. 0.]\n"
          ]
        }
      ],
      "source": [
        "import numpy as np\n",
        "\n",
        "# Crear un vector nulo de 10 elementos\n",
        "vector_nulo = np.zeros(10)\n",
        "\n",
        "print(vector_nulo)"
      ]
    },
    {
      "cell_type": "markdown",
      "id": "6cbe7954",
      "metadata": {
        "id": "6cbe7954"
      },
      "source": [
        "#### Ejercicio 02: Crea un vector de unos que tenga 10 elementos (★☆☆)\n",
        "\n",
        "> NOTA: Revisa la función `np.ones` (https://numpy.org/doc/stable/reference/generated/numpy.ones.html)"
      ]
    },
    {
      "cell_type": "code",
      "execution_count": 11,
      "id": "86477874",
      "metadata": {
        "id": "86477874",
        "outputId": "128b8aba-f3f3-40d5-fa84-9980d91849ce",
        "colab": {
          "base_uri": "https://localhost:8080/"
        }
      },
      "outputs": [
        {
          "output_type": "stream",
          "name": "stdout",
          "text": [
            "[1. 1. 1. 1. 1. 1. 1. 1. 1. 1.]\n"
          ]
        }
      ],
      "source": [
        "vector_vacio = np.empty(10)\n",
        "vector_vacio[:] = 1\n",
        "print(vector_vacio)"
      ]
    },
    {
      "cell_type": "markdown",
      "id": "0a708990",
      "metadata": {
        "id": "0a708990"
      },
      "source": [
        "#### Ejercicio 03: Investiga la función `linspace` de NumPy y crea un array que contenga 10 elementos (★☆☆)\n",
        "\n",
        "> NOTA: Revisa la función `np.linspace` (https://numpy.org/doc/stable/reference/generated/numpy.linspace.html)"
      ]
    },
    {
      "cell_type": "code",
      "execution_count": 12,
      "id": "477e01f4",
      "metadata": {
        "id": "477e01f4",
        "outputId": "2968d7f0-5bf5-42ff-96bf-539591a62315",
        "colab": {
          "base_uri": "https://localhost:8080/"
        }
      },
      "outputs": [
        {
          "output_type": "stream",
          "name": "stdout",
          "text": [
            "[0. 0. 0. 0. 0. 0. 0. 0. 0. 0.]\n"
          ]
        }
      ],
      "source": [
        "import numpy as np\n",
        "\n",
        "# Crear un vector nulo con linspace\n",
        "# linspace(start, stop, num) - para que sea nulo, start y stop deben ser 0\n",
        "vector_nulo = np.linspace(0, 0, 10)\n",
        "\n",
        "print(vector_nulo)"
      ]
    },
    {
      "cell_type": "markdown",
      "id": "9794fe71",
      "metadata": {
        "id": "9794fe71"
      },
      "source": [
        "#### Ejercicio 04: Busca varias formas de generar un array con números aleatorios y crea un array 1D y dos arrays 2D (★★☆)\n",
        "\n",
        "> NOTA: Revisa las funciones `np.random.rand` (https://numpy.org/doc/stable/reference/random/generated/numpy.random.rand.html), `np.random.randint` (https://numpy.org/doc/stable/reference/random/generated/numpy.random.randint.html) y `np.random.randn` (https://numpy.org/doc/stable/reference/random/generated/numpy.random.randn.html)"
      ]
    },
    {
      "cell_type": "code",
      "execution_count": 13,
      "id": "3d9a48a7",
      "metadata": {
        "id": "3d9a48a7",
        "outputId": "0770a02f-5b60-4a2a-ede3-aff032ee3ed5",
        "colab": {
          "base_uri": "https://localhost:8080/"
        }
      },
      "outputs": [
        {
          "output_type": "stream",
          "name": "stdout",
          "text": [
            "=== ARRAY 1D ===\n",
            "1D con rand() - [0,1): [0.37454012 0.95071431 0.73199394 0.59865848 0.15601864 0.15599452\n",
            " 0.05808361 0.86617615]\n",
            "1D con randint() - [1,100): [24  3 22 53  2 88 30 38]\n",
            "1D con randn() - N(0,1): [ 1.46237812  1.53871497 -2.43910582  0.60344123 -0.25104397 -0.16386712\n",
            " -1.47632969  1.48698096]\n",
            "1D con random() - [0,1): [0.98323089 0.46676289 0.85994041 0.68030754 0.45049925 0.01326496\n",
            " 0.94220176 0.56328822]\n",
            "1D con uniform() - [-5,5): [-1.14583497 -4.84033748 -2.69106174 -2.58974534  1.83263519  1.09996658\n",
            "  3.33194912 -3.26635346]\n",
            "\n",
            "=== ARRAY 2D (PRIMERA FORMA) ===\n",
            "2D (3x4) con rand():\n",
            "[[0.39106061 0.18223609 0.75536141 0.42515587]\n",
            " [0.20794166 0.56770033 0.03131329 0.84228477]\n",
            " [0.44975413 0.39515024 0.92665887 0.727272  ]]\n",
            "\n",
            "2D (3x4) con randint():\n",
            "[[14  7 13 22]\n",
            " [39 20 15 44]\n",
            " [17 46 23 25]]\n",
            "\n",
            "2D (3x4) con randn():\n",
            "[[ 0.09641648  0.41910211 -0.95302779 -1.0478706 ]\n",
            " [-1.87567677 -1.36678214  0.63630511 -0.90672067]\n",
            " [ 0.47604259  1.30366127  0.21158701  0.59704465]]\n",
            "\n",
            "=== ARRAY 2D (SEGUNDA FORMA) ===\n",
            "2D (2x5) con rand():\n",
            "[[0.91495968 0.85003858 0.44945067 0.09541012 0.37081825]\n",
            " [0.66884125 0.66592236 0.59129779 0.27472179 0.56124343]]\n",
            "\n",
            "2D (2x5) con randint():\n",
            "[[56 87 12 10 14]\n",
            " [99 23 36 18 88]]\n",
            "\n",
            "2D (2x5) con randn():\n",
            "[[-0.39863839 -0.06086409 -1.41875046  1.04249162  0.90353249]\n",
            " [ 0.01900033 -0.53441645 -1.49505387 -0.78925833  0.74371128]]\n",
            "\n",
            "=== MÉTODOS ADICIONALES ===\n",
            "Con choice() - de lista específica: [5 5 7 3 3 9]\n",
            "Con normal() - N(10,2): [ 8.77935597  9.36766821  7.03515151  9.54230497 11.92528258  9.58061513]\n",
            "Con exponential() - Exp(1): [0.39207272 0.13020887 0.44051914 2.37331277 0.31763591 1.04324415]\n"
          ]
        }
      ],
      "source": [
        "import numpy as np\n",
        "\n",
        "# Semilla para resultados reproducibles\n",
        "np.random.seed(42)\n",
        "\n",
        "print(\"=== ARRAY 1D ===\")\n",
        "\n",
        "# 1. Con np.random.rand() - números entre 0 y 1 (distribución uniforme)\n",
        "array1d_rand = np.random.rand(8)\n",
        "print(\"1D con rand() - [0,1):\", array1d_rand)\n",
        "\n",
        "# 2. Con np.random.randint() - números enteros en un rango\n",
        "array1d_randint = np.random.randint(1, 100, 8)\n",
        "print(\"1D con randint() - [1,100):\", array1d_randint)\n",
        "\n",
        "# 3. Con np.random.randn() - distribución normal estándar (media=0, std=1)\n",
        "array1d_randn = np.random.randn(8)\n",
        "print(\"1D con randn() - N(0,1):\", array1d_randn)\n",
        "\n",
        "# 4. Con np.random.random() - similar a rand()\n",
        "array1d_random = np.random.random(8)\n",
        "print(\"1D con random() - [0,1):\", array1d_random)\n",
        "\n",
        "# 5. Con np.random.uniform() - distribución uniforme con límites personalizados\n",
        "array1d_uniform = np.random.uniform(-5, 5, 8)\n",
        "print(\"1D con uniform() - [-5,5):\", array1d_uniform)\n",
        "\n",
        "print(\"\\n=== ARRAY 2D (PRIMERA FORMA) ===\")\n",
        "\n",
        "# Array 2D de 3x4\n",
        "# 1. Con np.random.rand()\n",
        "array2d_1_rand = np.random.rand(3, 4)\n",
        "print(\"2D (3x4) con rand():\")\n",
        "print(array2d_1_rand)\n",
        "\n",
        "# 2. Con np.random.randint()\n",
        "array2d_1_randint = np.random.randint(0, 50, (3, 4))\n",
        "print(\"\\n2D (3x4) con randint():\")\n",
        "print(array2d_1_randint)\n",
        "\n",
        "# 3. Con np.random.randn()\n",
        "array2d_1_randn = np.random.randn(3, 4)\n",
        "print(\"\\n2D (3x4) con randn():\")\n",
        "print(array2d_1_randn)\n",
        "\n",
        "print(\"\\n=== ARRAY 2D (SEGUNDA FORMA) ===\")\n",
        "\n",
        "# Array 2D de 2x5\n",
        "# 1. Con np.random.rand()\n",
        "array2d_2_rand = np.random.rand(2, 5)\n",
        "print(\"2D (2x5) con rand():\")\n",
        "print(array2d_2_rand)\n",
        "\n",
        "# 2. Con np.random.randint()\n",
        "array2d_2_randint = np.random.randint(10, 100, (2, 5))\n",
        "print(\"\\n2D (2x5) con randint():\")\n",
        "print(array2d_2_randint)\n",
        "\n",
        "# 3. Con np.random.randn()\n",
        "array2d_2_randn = np.random.randn(2, 5)\n",
        "print(\"\\n2D (2x5) con randn():\")\n",
        "print(array2d_2_randn)\n",
        "\n",
        "print(\"\\n=== MÉTODOS ADICIONALES ===\")\n",
        "\n",
        "# 6. Con np.random.choice() - selección de elementos de un array\n",
        "array_choice = np.random.choice([1, 3, 5, 7, 9], size=6)\n",
        "print(\"Con choice() - de lista específica:\", array_choice)\n",
        "\n",
        "# 7. Con np.random.normal() - distribución normal personalizada\n",
        "array_normal = np.random.normal(loc=10, scale=2, size=6)\n",
        "print(\"Con normal() - N(10,2):\", array_normal)\n",
        "\n",
        "# 8. Con np.random.exponential() - distribución exponencial\n",
        "array_exp = np.random.exponential(scale=1.0, size=6)\n",
        "print(\"Con exponential() - Exp(1):\", array_exp)"
      ]
    },
    {
      "cell_type": "markdown",
      "id": "78a37e5c",
      "metadata": {
        "id": "78a37e5c"
      },
      "source": [
        "#### Ejercicio 05: Crea una matriz (array 2D) identidad de 5x5 (★☆☆)\n",
        "\n",
        "\n",
        "> NOTA: Revisa la función `np.eye`(https://numpy.org/devdocs/reference/generated/numpy.eye.html)"
      ]
    },
    {
      "cell_type": "code",
      "execution_count": 14,
      "id": "a6751106",
      "metadata": {
        "id": "a6751106",
        "outputId": "6f62c06a-8587-4529-80c9-fc7c218663bb",
        "colab": {
          "base_uri": "https://localhost:8080/"
        }
      },
      "outputs": [
        {
          "output_type": "stream",
          "name": "stdout",
          "text": [
            "=== MÉTODO 1: np.eye() ===\n",
            "Matriz identidad 5x5 con np.eye(5):\n",
            "[[1. 0. 0. 0. 0.]\n",
            " [0. 1. 0. 0. 0.]\n",
            " [0. 0. 1. 0. 0.]\n",
            " [0. 0. 0. 1. 0.]\n",
            " [0. 0. 0. 0. 1.]]\n",
            "\n",
            "=== MÉTODO 2: np.identity() ===\n",
            "Matriz identidad 5x5 con np.identity(5):\n",
            "[[1. 0. 0. 0. 0.]\n",
            " [0. 1. 0. 0. 0.]\n",
            " [0. 0. 1. 0. 0.]\n",
            " [0. 0. 0. 1. 0.]\n",
            " [0. 0. 0. 0. 1.]]\n",
            "\n",
            "=== MÉTODO 3: Manual con np.zeros() y asignación ===\n",
            "Matriz identidad creada manualmente:\n",
            "[[1. 0. 0. 0. 0.]\n",
            " [0. 1. 0. 0. 0.]\n",
            " [0. 0. 1. 0. 0.]\n",
            " [0. 0. 0. 1. 0.]\n",
            " [0. 0. 0. 0. 1.]]\n",
            "\n",
            "=== MÉTODO 4: Con np.diag() ===\n",
            "Matriz identidad con np.diag():\n",
            "[[1 0 0 0 0]\n",
            " [0 1 0 0 0]\n",
            " [0 0 1 0 0]\n",
            " [0 0 0 1 0]\n",
            " [0 0 0 0 1]]\n",
            "\n",
            "=== MÉTODO 5: Con np.ones() y manipulación ===\n",
            "Matriz identidad con np.diagflat():\n",
            "[[1. 0. 0. 0. 0.]\n",
            " [0. 1. 0. 0. 0.]\n",
            " [0. 0. 1. 0. 0.]\n",
            " [0. 0. 0. 1. 0.]\n",
            " [0. 0. 0. 0. 1.]]\n",
            "\n",
            "=== VERIFICACIÓN ===\n",
            "¿Todas las matrices son iguales?\n",
            "Método 1 == Método 2: True\n",
            "Método 1 == Método 3: True\n",
            "Método 1 == Método 4: True\n",
            "Método 1 == Método 5: True\n",
            "\n",
            "=== PROPIEDADES DE LA MATRIZ IDENTIDAD ===\n",
            "Forma (shape): (5, 5)\n",
            "Tipo de datos (dtype): float64\n",
            "Determinante: 1.0\n",
            "Traza (suma diagonal): 5.0\n",
            "\n",
            "=== COMPROBACIÓN MATRIZ IDENTIDAD ===\n",
            "Vector de prueba: [ 2  3  5  7 11]\n",
            "I × vector = [ 2.  3.  5.  7. 11.]\n",
            "¿I × vector == vector? True\n"
          ]
        }
      ],
      "source": [
        "import numpy as np\n",
        "\n",
        "print(\"=== MÉTODO 1: np.eye() ===\")\n",
        "# Método más directo y eficiente\n",
        "identidad1 = np.eye(5)\n",
        "print(\"Matriz identidad 5x5 con np.eye(5):\")\n",
        "print(identidad1)\n",
        "\n",
        "print(\"\\n=== MÉTODO 2: np.identity() ===\")\n",
        "# Específicamente diseñada para matrices identidad\n",
        "identidad2 = np.identity(5)\n",
        "print(\"Matriz identidad 5x5 con np.identity(5):\")\n",
        "print(identidad2)\n",
        "\n",
        "print(\"\\n=== MÉTODO 3: Manual con np.zeros() y asignación ===\")\n",
        "# Creando manualmente\n",
        "identidad3 = np.zeros((5, 5))\n",
        "for i in range(5):\n",
        "    identidad3[i, i] = 1\n",
        "print(\"Matriz identidad creada manualmente:\")\n",
        "print(identidad3)\n",
        "\n",
        "print(\"\\n=== MÉTODO 4: Con np.diag() ===\")\n",
        "# Creando una diagonal de unos\n",
        "identidad4 = np.diag([1, 1, 1, 1, 1])\n",
        "print(\"Matriz identidad con np.diag():\")\n",
        "print(identidad4)\n",
        "\n",
        "print(\"\\n=== MÉTODO 5: Con np.ones() y manipulación ===\")\n",
        "# Método más creativo (pero menos eficiente)\n",
        "diagonal = np.ones(5)\n",
        "identidad5 = np.diagflat(diagonal)\n",
        "print(\"Matriz identidad con np.diagflat():\")\n",
        "print(identidad5)\n",
        "\n",
        "print(\"\\n=== VERIFICACIÓN ===\")\n",
        "print(\"¿Todas las matrices son iguales?\")\n",
        "print(\"Método 1 == Método 2:\", np.array_equal(identidad1, identidad2))\n",
        "print(\"Método 1 == Método 3:\", np.array_equal(identidad1, identidad3))\n",
        "print(\"Método 1 == Método 4:\", np.array_equal(identidad1, identidad4))\n",
        "print(\"Método 1 == Método 5:\", np.array_equal(identidad1, identidad5))\n",
        "\n",
        "print(\"\\n=== PROPIEDADES DE LA MATRIZ IDENTIDAD ===\")\n",
        "print(\"Forma (shape):\", identidad1.shape)\n",
        "print(\"Tipo de datos (dtype):\", identidad1.dtype)\n",
        "print(\"Determinante:\", np.linalg.det(identidad1))\n",
        "print(\"Traza (suma diagonal):\", np.trace(identidad1))\n",
        "\n",
        "print(\"\\n=== COMPROBACIÓN MATRIZ IDENTIDAD ===\")\n",
        "# Crear un vector de prueba\n",
        "vector_prueba = np.array([2, 3, 5, 7, 11])\n",
        "print(\"Vector de prueba:\", vector_prueba)\n",
        "print(\"I × vector =\", identidad1 @ vector_prueba)\n",
        "print(\"¿I × vector == vector?\", np.array_equal(identidad1 @ vector_prueba, vector_prueba))"
      ]
    },
    {
      "cell_type": "markdown",
      "id": "08bb63e6",
      "metadata": {
        "id": "08bb63e6"
      },
      "source": [
        "#### Ejercicio 06: Crea una matriz con números aleatorios de 3x2 y calcula el valor mínimo y máximo (★☆☆)\n",
        "\n",
        "> NOTA: Revisa la función `np.min` (https://numpy.org/devdocs/reference/generated/numpy.min.html) y `np.max` (https://numpy.org/devdocs/reference/generated/numpy.max.html)"
      ]
    },
    {
      "cell_type": "code",
      "execution_count": 17,
      "id": "3214cca1",
      "metadata": {
        "id": "3214cca1",
        "outputId": "cf2c6545-13c4-4bc8-9c14-8072dc8e2bb7",
        "colab": {
          "base_uri": "https://localhost:8080/"
        }
      },
      "outputs": [
        {
          "output_type": "stream",
          "name": "stdout",
          "text": [
            "=== CREACIÓN DE MATRIZ 3x2 CON ALEATORIOS ===\n",
            "Matriz con rand() - [0,1):\n",
            "[[0.69646919 0.28613933]\n",
            " [0.22685145 0.55131477]\n",
            " [0.71946897 0.42310646]]\n",
            "\n",
            "Matriz con randint() - [1,100):\n",
            "[[87 98]\n",
            " [97 48]\n",
            " [74 33]]\n",
            "\n",
            "Matriz con randn() - N(0,1):\n",
            "[[ 1.26593626 -0.8667404 ]\n",
            " [-0.67888615 -0.09470897]\n",
            " [ 1.49138963 -0.638902  ]]\n",
            "\n",
            "Matriz con uniform() - [-10,10):\n",
            "[[-6.35016539 -6.49096488]\n",
            " [ 0.63102748  0.63655174]\n",
            " [ 2.68801917  6.98863588]]\n",
            "\n",
            "==================================================\n",
            "CÁLCULO DE MÍNIMOS Y MÁXIMOS\n",
            "==================================================\n",
            "Matriz de trabajo (randint):\n",
            "[[87 98]\n",
            " [97 48]\n",
            " [74 33]]\n",
            "\n",
            "=== VALOR MÍNIMO ===\n",
            "np.min(matriz): 33\n",
            "matriz.min(): 33\n",
            "np.amin(matriz): 33\n",
            "\n",
            "=== VALOR MÁXIMO ===\n",
            "np.max(matriz): 98\n",
            "matriz.max(): 98\n",
            "np.amax(matriz): 98\n",
            "\n",
            "=== MÍNIMOS Y MÁXIMOS POR EJES (FILAS Y COLUMNAS) ===\n",
            "Mínimos por filas (axis=1): [87 48 33]\n",
            "Mínimos por columnas (axis=0): [74 33]\n",
            "Máximos por filas (axis=1): [98 97 74]\n",
            "Máximos por columnas (axis=0): [97 98]\n",
            "\n",
            "=== POSICIÓN DE LOS VALORES MÍNIMO Y MÁXIMO ===\n",
            "Posición lineal del mínimo: 5\n",
            "Posición (fila, columna) del mínimo: (2, 1)\n",
            "Posición lineal del máximo: 1\n",
            "Posición (fila, columna) del máximo: (0, 1)\n",
            "\n",
            "=== COMPROBACIÓN CON TODAS LAS MATRICES ===\n",
            "rand() [0,1)         -> Mínimo:   0.2269, Máximo:   0.7195\n",
            "randint() [1,100)    -> Mínimo:  33.0000, Máximo:  98.0000\n",
            "randn() N(0,1)       -> Mínimo:  -0.8667, Máximo:   1.4914\n",
            "uniform() [-10,10)   -> Mínimo:  -6.4910, Máximo:   6.9886\n"
          ]
        }
      ],
      "source": [
        "import numpy as np\n",
        "\n",
        "# Semilla para resultados reproducibles\n",
        "np.random.seed(123)\n",
        "\n",
        "print(\"=== CREACIÓN DE MATRIZ 3x2 CON ALEATORIOS ===\")\n",
        "\n",
        "# Método 1: Con np.random.rand()\n",
        "matriz_rand = np.random.rand(3, 2)\n",
        "print(\"Matriz con rand() - [0,1):\")\n",
        "print(matriz_rand)\n",
        "\n",
        "# Método 2: Con np.random.randint() - números enteros\n",
        "matriz_randint = np.random.randint(1, 100, (3, 2))\n",
        "print(\"\\nMatriz con randint() - [1,100):\")\n",
        "print(matriz_randint)\n",
        "\n",
        "# Método 3: Con np.random.randn() - distribución normal\n",
        "matriz_randn = np.random.randn(3, 2)\n",
        "print(\"\\nMatriz con randn() - N(0,1):\")\n",
        "print(matriz_randn)\n",
        "\n",
        "# Método 4: Con np.random.uniform() - rango personalizado\n",
        "matriz_uniform = np.random.uniform(-10, 10, (3, 2))\n",
        "print(\"\\nMatriz con uniform() - [-10,10):\")\n",
        "print(matriz_uniform)\n",
        "\n",
        "print(\"\\n\" + \"=\"*50)\n",
        "print(\"CÁLCULO DE MÍNIMOS Y MÁXIMOS\")\n",
        "print(\"=\"*50)\n",
        "\n",
        "# Vamos a trabajar principalmente con la matriz de randint por ser más legible\n",
        "matriz = matriz_randint\n",
        "print(\"Matriz de trabajo (randint):\")\n",
        "print(matriz)\n",
        "\n",
        "print(\"\\n=== VALOR MÍNIMO ===\")\n",
        "# Diferentes formas de calcular el mínimo\n",
        "minimo1 = np.min(matriz)\n",
        "minimo2 = matriz.min()\n",
        "minimo3 = np.amin(matriz)  # alias de np.min\n",
        "\n",
        "print(f\"np.min(matriz): {minimo1}\")\n",
        "print(f\"matriz.min(): {minimo2}\")\n",
        "print(f\"np.amin(matriz): {minimo3}\")\n",
        "\n",
        "print(\"\\n=== VALOR MÁXIMO ===\")\n",
        "# Diferentes formas de calcular el máximo\n",
        "maximo1 = np.max(matriz)\n",
        "maximo2 = matriz.max()\n",
        "maximo3 = np.amax(matriz)  # alias de np.max\n",
        "\n",
        "print(f\"np.max(matriz): {maximo1}\")\n",
        "print(f\"matriz.max(): {maximo2}\")\n",
        "print(f\"np.amax(matriz): {maximo3}\")\n",
        "\n",
        "print(\"\\n=== MÍNIMOS Y MÁXIMOS POR EJES (FILAS Y COLUMNAS) ===\")\n",
        "# Mínimos por filas (eje 1) - mínimo de cada fila\n",
        "minimos_filas = np.min(matriz, axis=1)\n",
        "print(f\"Mínimos por filas (axis=1): {minimos_filas}\")\n",
        "\n",
        "# Mínimos por columnas (eje 0) - mínimo de cada columna\n",
        "minimos_columnas = np.min(matriz, axis=0)\n",
        "print(f\"Mínimos por columnas (axis=0): {minimos_columnas}\")\n",
        "\n",
        "# Máximos por filas (eje 1) - máximo de cada fila\n",
        "maximos_filas = np.max(matriz, axis=1)\n",
        "print(f\"Máximos por filas (axis=1): {maximos_filas}\")\n",
        "\n",
        "# Máximos por columnas (eje 0) - máximo de cada columna\n",
        "maximos_columnas = np.max(matriz, axis=0)\n",
        "print(f\"Máximos por columnas (axis=0): {maximos_columnas}\")\n",
        "\n",
        "print(\"\\n=== POSICIÓN DE LOS VALORES MÍNIMO Y MÁXIMO ===\")\n",
        "# Encontrar la posición (índice) del valor mínimo\n",
        "pos_minimo = np.argmin(matriz)\n",
        "pos_minimo_fila, pos_minimo_columna = np.unravel_index(np.argmin(matriz), matriz.shape)\n",
        "\n",
        "# Encontrar la posición (índice) del valor máximo\n",
        "pos_maximo = np.argmax(matriz)\n",
        "pos_maximo_fila, pos_maximo_columna = np.unravel_index(np.argmax(matriz), matriz.shape)\n",
        "\n",
        "print(f\"Posición lineal del mínimo: {pos_minimo}\")\n",
        "print(f\"Posición (fila, columna) del mínimo: ({pos_minimo_fila}, {pos_minimo_columna})\")\n",
        "print(f\"Posición lineal del máximo: {pos_maximo}\")\n",
        "print(f\"Posición (fila, columna) del máximo: ({pos_maximo_fila}, {pos_maximo_columna})\")\n",
        "\n",
        "print(\"\\n=== COMPROBACIÓN CON TODAS LAS MATRICES ===\")\n",
        "matrices = {\n",
        "    \"rand() [0,1)\": matriz_rand,\n",
        "    \"randint() [1,100)\": matriz_randint,\n",
        "    \"randn() N(0,1)\": matriz_randn,\n",
        "    \"uniform() [-10,10)\": matriz_uniform\n",
        "}\n",
        "\n",
        "for nombre, matriz in matrices.items():\n",
        "    min_val = np.min(matriz)\n",
        "    max_val = np.max(matriz)\n",
        "    print(f\"{nombre:20} -> Mínimo: {min_val:8.4f}, Máximo: {max_val:8.4f}\")"
      ]
    },
    {
      "cell_type": "markdown",
      "id": "57c6c275",
      "metadata": {
        "id": "57c6c275"
      },
      "source": [
        "#### Ejercicio 07: Crea un vector con números aleatorios de 30 elementos y calcula la media (★☆☆)\n",
        "\n",
        "> NOTA: Revisa la función `np.mean` (https://numpy.org/doc/stable/reference/generated/numpy.mean.html)"
      ]
    },
    {
      "cell_type": "code",
      "execution_count": 18,
      "id": "cc960ba5",
      "metadata": {
        "id": "cc960ba5",
        "outputId": "4b74ab4d-214c-41b1-c78b-68e60010641f",
        "colab": {
          "base_uri": "https://localhost:8080/"
        }
      },
      "outputs": [
        {
          "output_type": "stream",
          "name": "stdout",
          "text": [
            "=== CREACIÓN DE VECTOR CON 30 ELEMENTOS ALEATORIOS ===\n",
            "Vector con rand() - [0,1):\n",
            "[0.37454012 0.95071431 0.73199394 0.59865848 0.15601864 0.15599452\n",
            " 0.05808361 0.86617615 0.60111501 0.70807258 0.02058449 0.96990985\n",
            " 0.83244264 0.21233911 0.18182497 0.18340451 0.30424224 0.52475643\n",
            " 0.43194502 0.29122914 0.61185289 0.13949386 0.29214465 0.36636184\n",
            " 0.45606998 0.78517596 0.19967378 0.51423444 0.59241457 0.04645041]\n",
            "\n",
            "Vector con randint() - [1,101):\n",
            "[51  7 21 73 39 18  4 89 60 14  9 90 53  2 84 92 60 71 44  8 47 35 78 81\n",
            " 36 50  4  2  6 54]\n",
            "\n",
            "Vector con randn() - N(0,1):\n",
            "[-1.32818605  0.19686124  0.73846658  0.17136828 -0.11564828 -0.3011037\n",
            " -1.47852199 -0.71984421 -0.46063877  1.05712223  0.34361829 -1.76304016\n",
            "  0.32408397 -0.38508228 -0.676922    0.61167629  1.03099952  0.93128012\n",
            " -0.83921752 -0.30921238  0.33126343  0.97554513 -0.47917424 -0.18565898\n",
            " -1.10633497 -1.19620662  0.81252582  1.35624003 -0.07201012  1.0035329 ]\n",
            "\n",
            "Vector con uniform() - [-5,5):\n",
            "[-3.80405754  2.13244787  2.60785049  0.61277198  2.7096718  -0.06204404\n",
            "  0.22732829 -0.72458982 -4.74580873 -3.92108573 -4.68570814  1.36410411\n",
            " -1.85644019  0.08570691  4.07566474 -2.50707771 -0.89617077  2.55551139\n",
            " -2.71201835 -4.2302009  -2.10248547 -3.38778713  4.29697652  3.0812038\n",
            "  1.33403757  3.7146059   3.03672077 -3.13429941  3.92558998  0.39342242]\n",
            "\n",
            "============================================================\n",
            "CÁLCULO DE LA MEDIA\n",
            "============================================================\n",
            "Vector de trabajo (randint):\n",
            "[51  7 21 73 39 18  4 89 60 14  9 90 53  2 84 92 60 71 44  8 47 35 78 81\n",
            " 36 50  4  2  6 54]\n",
            "\n",
            "=== CÁLCULO DE LA MEDIA - DIFERENTES MÉTODOS ===\n",
            "np.mean(vector): 42.7333\n",
            "vector.mean(): 42.7333\n",
            "Cálculo manual (sum/len): 42.7333\n",
            "statistics.mean(vector): 42.0000\n",
            "\n",
            "=== VERIFICACIÓN DE RESULTADOS ===\n",
            "¿np.mean == vector.mean? True\n",
            "¿np.mean == cálculo manual? True\n",
            "¿np.mean == statistics.mean? False\n",
            "\n",
            "=== PROPIEDADES ESTADÍSTICAS ADICIONALES ===\n",
            "Mediana: 45.5000\n",
            "Moda: No hay moda única\n",
            "Desviación estándar: 30.1197\n",
            "Varianza: 907.1956\n",
            "Rango: 90\n",
            "Mínimo: 2\n",
            "Máximo: 92\n",
            "\n",
            "=== MEDIA DE TODOS LOS VECTORES ===\n",
            "rand() [0,1)         -> Media:   0.4386, Mediana:   0.4032\n",
            "randint() [1,101)    -> Media:  42.7333, Mediana:  45.5000\n",
            "randn() N(0,1)       -> Media:  -0.0511, Mediana:  -0.0938\n",
            "uniform() [-5,5)     -> Media:  -0.0872, Mediana:   0.1565\n",
            "\n",
            "=== CÁLCULOS DE MEDIA CON CONDICIONES ===\n",
            "Media de elementos > 50: 72.0000 (13 elementos)\n",
            "Media de elementos pares: 39.2222 (18 elementos)\n",
            "Media de elementos impares: 48.0000 (12 elementos)\n",
            "\n",
            "=== MEDIA PONDERADA ===\n",
            "Media ponderada: 40.8496\n",
            "\n",
            "=== COMPARACIÓN: MEDIA vs MEDIA RECORTADA ===\n",
            "Media normal: 42.7333\n",
            "Media recortada (excluyendo 5 valores por extremo): 41.0000\n",
            "\n",
            "=== VISUALIZACIÓN DE LA DISTRIBUCIÓN ===\n",
            "Número de elementos: 30\n",
            "Suma total: 1282\n",
            "Media teórica esperada (para uniforme [1,100]): 50.5\n",
            "Valor más frecuente: 2 (aparece 2 veces)\n",
            "\n",
            "=== EJEMPLO PRÁCTICO: ANÁLISIS DE CALIFICACIONES ===\n",
            "Vector de calificaciones (0-10):\n",
            "[ 0  0  2  1  4  9  5  6  3  6 10  7 10  0  5  7  4  3  1  5  5 10  0  8\n",
            " 10  5  2  3 10  3]\n",
            "Media de calificaciones: 4.80\n",
            "Aprobados (≥5): 16/30 (53.3%)\n",
            "Calificación más alta: 10\n",
            "Calificación más baja: 0\n"
          ]
        }
      ],
      "source": [
        "import numpy as np\n",
        "\n",
        "# Semilla para resultados reproducibles\n",
        "np.random.seed(42)\n",
        "\n",
        "print(\"=== CREACIÓN DE VECTOR CON 30 ELEMENTOS ALEATORIOS ===\")\n",
        "\n",
        "# Método 1: Con np.random.rand() - números entre 0 y 1\n",
        "vector_rand = np.random.rand(30)\n",
        "print(\"Vector con rand() - [0,1):\")\n",
        "print(vector_rand)\n",
        "\n",
        "# Método 2: Con np.random.randint() - números enteros\n",
        "vector_randint = np.random.randint(1, 101, 30)  # Números entre 1 y 100\n",
        "print(\"\\nVector con randint() - [1,101):\")\n",
        "print(vector_randint)\n",
        "\n",
        "# Método 3: Con np.random.randn() - distribución normal\n",
        "vector_randn = np.random.randn(30)\n",
        "print(\"\\nVector con randn() - N(0,1):\")\n",
        "print(vector_randn)\n",
        "\n",
        "# Método 4: Con np.random.uniform() - rango personalizado\n",
        "vector_uniform = np.random.uniform(-5, 5, 30)\n",
        "print(\"\\nVector con uniform() - [-5,5):\")\n",
        "print(vector_uniform)\n",
        "\n",
        "print(\"\\n\" + \"=\"*60)\n",
        "print(\"CÁLCULO DE LA MEDIA\")\n",
        "print(\"=\"*60)\n",
        "\n",
        "# Vamos a trabajar con el vector de randint por ser más interpretable\n",
        "vector = vector_randint\n",
        "print(\"Vector de trabajo (randint):\")\n",
        "print(vector)\n",
        "\n",
        "print(\"\\n=== CÁLCULO DE LA MEDIA - DIFERENTES MÉTODOS ===\")\n",
        "\n",
        "# Método 1: np.mean() - función universal de NumPy\n",
        "media1 = np.mean(vector)\n",
        "print(f\"np.mean(vector): {media1:.4f}\")\n",
        "\n",
        "# Método 2: array.mean() - método del objeto array\n",
        "media2 = vector.mean()\n",
        "print(f\"vector.mean(): {media2:.4f}\")\n",
        "\n",
        "# Método 3: Cálculo manual - suma todos los elementos y divide por el número de elementos\n",
        "media_manual = np.sum(vector) / len(vector)\n",
        "print(f\"Cálculo manual (sum/len): {media_manual:.4f}\")\n",
        "\n",
        "# Método 4: Usando statistics.mean() (de la librería estándar)\n",
        "import statistics\n",
        "media_stats = statistics.mean(vector)\n",
        "print(f\"statistics.mean(vector): {media_stats:.4f}\")\n",
        "\n",
        "print(\"\\n=== VERIFICACIÓN DE RESULTADOS ===\")\n",
        "print(f\"¿np.mean == vector.mean? {np.isclose(media1, media2)}\")\n",
        "print(f\"¿np.mean == cálculo manual? {np.isclose(media1, media_manual)}\")\n",
        "print(f\"¿np.mean == statistics.mean? {np.isclose(media1, media_stats)}\")\n",
        "\n",
        "print(\"\\n=== PROPIEDADES ESTADÍSTICAS ADICIONALES ===\")\n",
        "# Otras medidas estadísticas importantes\n",
        "mediana = np.median(vector)\n",
        "moda = statistics.mode(vector) if len(set(vector)) == len(vector) else \"No hay moda única\"\n",
        "desviacion_estandar = np.std(vector)\n",
        "varianza = np.var(vector)\n",
        "\n",
        "print(f\"Mediana: {mediana:.4f}\")\n",
        "try:\n",
        "    print(f\"Moda: {moda}\")\n",
        "except:\n",
        "    print(\"No hay moda única\")\n",
        "print(f\"Desviación estándar: {desviacion_estandar:.4f}\")\n",
        "print(f\"Varianza: {varianza:.4f}\")\n",
        "print(f\"Rango: {np.ptp(vector)}\")\n",
        "print(f\"Mínimo: {np.min(vector)}\")\n",
        "print(f\"Máximo: {np.max(vector)}\")\n",
        "\n",
        "print(\"\\n=== MEDIA DE TODOS LOS VECTORES ===\")\n",
        "vectores = {\n",
        "    \"rand() [0,1)\": vector_rand,\n",
        "    \"randint() [1,101)\": vector_randint,\n",
        "    \"randn() N(0,1)\": vector_randn,\n",
        "    \"uniform() [-5,5)\": vector_uniform\n",
        "}\n",
        "\n",
        "for nombre, vec in vectores.items():\n",
        "    media = np.mean(vec)\n",
        "    mediana = np.median(vec)\n",
        "    print(f\"{nombre:20} -> Media: {media:8.4f}, Mediana: {mediana:8.4f}\")\n",
        "\n",
        "print(\"\\n=== CÁLCULOS DE MEDIA CON CONDICIONES ===\")\n",
        "# Media de elementos mayores que un valor umbral\n",
        "umbral = 50\n",
        "elementos_mayores_umbral = vector[vector > umbral]\n",
        "if len(elementos_mayores_umbral) > 0:\n",
        "    media_mayores = np.mean(elementos_mayores_umbral)\n",
        "    print(f\"Media de elementos > {umbral}: {media_mayores:.4f} ({len(elementos_mayores_umbral)} elementos)\")\n",
        "else:\n",
        "    print(f\"No hay elementos mayores que {umbral}\")\n",
        "\n",
        "# Media de elementos pares e impares\n",
        "elementos_pares = vector[vector % 2 == 0]\n",
        "elementos_impares = vector[vector % 2 == 1]\n",
        "\n",
        "if len(elementos_pares) > 0:\n",
        "    media_pares = np.mean(elementos_pares)\n",
        "    print(f\"Media de elementos pares: {media_pares:.4f} ({len(elementos_pares)} elementos)\")\n",
        "\n",
        "if len(elementos_impares) > 0:\n",
        "    media_impares = np.mean(elementos_impares)\n",
        "    print(f\"Media de elementos impares: {media_impares:.4f} ({len(elementos_impares)} elementos)\")\n",
        "\n",
        "print(\"\\n=== MEDIA PONDERADA ===\")\n",
        "# Crear pesos aleatorios para el vector\n",
        "pesos = np.random.rand(30)\n",
        "pesos = pesos / np.sum(pesos)  # Normalizar para que sumen 1\n",
        "\n",
        "media_ponderada = np.average(vector, weights=pesos)\n",
        "print(f\"Media ponderada: {media_ponderada:.4f}\")\n",
        "\n",
        "print(\"\\n=== COMPARACIÓN: MEDIA vs MEDIA RECORTADA ===\")\n",
        "# Media recortada (excluye valores extremos)\n",
        "media_recortada = statistics.mean(sorted(vector)[5:25])  # Excluye 5 valores por extremo\n",
        "print(f\"Media normal: {media1:.4f}\")\n",
        "print(f\"Media recortada (excluyendo 5 valores por extremo): {media_recortada:.4f}\")\n",
        "\n",
        "print(\"\\n=== VISUALIZACIÓN DE LA DISTRIBUCIÓN ===\")\n",
        "# Información sobre la distribución\n",
        "print(f\"Número de elementos: {len(vector)}\")\n",
        "print(f\"Suma total: {np.sum(vector)}\")\n",
        "print(f\"Media teórica esperada (para uniforme [1,100]): {(1 + 100) / 2}\")\n",
        "\n",
        "# Frecuencia de valores\n",
        "valores_unicos, conteos = np.unique(vector, return_counts=True)\n",
        "valor_mas_frecuente = valores_unicos[np.argmax(conteos)]\n",
        "print(f\"Valor más frecuente: {valor_mas_frecuente} (aparece {conteos.max()} veces)\")\n",
        "\n",
        "print(\"\\n=== EJEMPLO PRÁCTICO: ANÁLISIS DE CALIFICACIONES ===\")\n",
        "# Ejemplo práctico: análisis de calificaciones\n",
        "calificaciones = np.random.randint(0, 11, 30)  # Calificaciones de 0 a 10\n",
        "print(\"Vector de calificaciones (0-10):\")\n",
        "print(calificaciones)\n",
        "\n",
        "media_calificaciones = np.mean(calificaciones)\n",
        "aprobados = np.sum(calificaciones >= 5)\n",
        "porcentaje_aprobados = (aprobados / len(calificaciones)) * 100\n",
        "\n",
        "print(f\"Media de calificaciones: {media_calificaciones:.2f}\")\n",
        "print(f\"Aprobados (≥5): {aprobados}/{len(calificaciones)} ({porcentaje_aprobados:.1f}%)\")\n",
        "print(f\"Calificación más alta: {np.max(calificaciones)}\")\n",
        "print(f\"Calificación más baja: {np.min(calificaciones)}\")"
      ]
    },
    {
      "cell_type": "markdown",
      "id": "2c801667",
      "metadata": {
        "id": "2c801667"
      },
      "source": [
        "#### Ejercicio 08: Convierte la lista `[1, 2, 3]` y la tupla `(1, 2, 3)` en arrays (★☆☆)"
      ]
    },
    {
      "cell_type": "code",
      "execution_count": null,
      "id": "3f36c71c",
      "metadata": {
        "id": "3f36c71c"
      },
      "outputs": [],
      "source": []
    },
    {
      "cell_type": "markdown",
      "id": "962bb9fc",
      "metadata": {
        "id": "962bb9fc"
      },
      "source": [
        "### Operaciones entre arrays"
      ]
    },
    {
      "cell_type": "markdown",
      "id": "48d48f01",
      "metadata": {
        "id": "48d48f01"
      },
      "source": [
        "#### Ejercicio 09: Invierte el vector del ejercicio anterior (★☆☆)\n",
        "\n",
        "> NOTA: Revisa la función `np.flip` (https://numpy.org/doc/stable/reference/generated/numpy.flip.html)"
      ]
    },
    {
      "cell_type": "code",
      "execution_count": null,
      "id": "d3e13052",
      "metadata": {
        "id": "d3e13052"
      },
      "outputs": [],
      "source": []
    },
    {
      "cell_type": "markdown",
      "id": "233addce",
      "metadata": {
        "id": "233addce"
      },
      "source": [
        "#### Ejercicio 10: Cambia el tamaño de un array aleatorio de dimensiones 5x12 en 12x5 (★☆☆)\n",
        "\n",
        "> NOTA: Revisa la función `np.reshape` (https://numpy.org/doc/stable/reference/generated/numpy.reshape.html)"
      ]
    },
    {
      "cell_type": "code",
      "execution_count": null,
      "id": "bfaed09f",
      "metadata": {
        "id": "bfaed09f"
      },
      "outputs": [],
      "source": []
    },
    {
      "cell_type": "markdown",
      "id": "645e5381",
      "metadata": {
        "id": "645e5381"
      },
      "source": [
        "#### Ejercicio 11: Convierte la lista `[1, 2, 0, 0, 4, 0]` en un array y obtén el índice de los elementos que no son cero (★★☆)\n",
        "\n",
        "> NOTA: Revisa la función `np.where` (https://numpy.org/devdocs/reference/generated/numpy.where.html)"
      ]
    },
    {
      "cell_type": "code",
      "execution_count": null,
      "id": "b2652fee",
      "metadata": {
        "id": "b2652fee"
      },
      "outputs": [],
      "source": []
    },
    {
      "cell_type": "markdown",
      "id": "e7948dbb",
      "metadata": {
        "id": "e7948dbb"
      },
      "source": [
        "#### Ejercicio 12: Convierte la lista `[0, 5, -1, 3, 15]` en un array, multiplica sus valores por `-2` y obtén los elementos pares (★★☆)"
      ]
    },
    {
      "cell_type": "code",
      "execution_count": null,
      "metadata": {
        "id": "Dr_EHAQun93c"
      },
      "outputs": [],
      "source": [],
      "id": "Dr_EHAQun93c"
    },
    {
      "cell_type": "markdown",
      "id": "a90d6f3e",
      "metadata": {
        "id": "a90d6f3e"
      },
      "source": [
        "#### Ejercicio 13: Crea un vector aleatorio de 10 elementos y ordénalo de menor a mayor (★★☆)\n",
        "\n",
        "> NOTA: Revisa la función `np.sort` (https://numpy.org/doc/stable/reference/generated/numpy.sort.html)"
      ]
    },
    {
      "cell_type": "code",
      "execution_count": null,
      "id": "bc373a83",
      "metadata": {
        "id": "bc373a83"
      },
      "outputs": [],
      "source": []
    },
    {
      "cell_type": "markdown",
      "id": "5e9b6115",
      "metadata": {
        "id": "5e9b6115"
      },
      "source": [
        "#### Ejercicio 14: Genera dos vectores aleatorios de 8 elementos y aplica las operaciones de suma, resta y multiplicación entre ellos (★★☆)\n",
        "\n",
        "> NOTA: Revisa las funciones matemáticas: https://numpy.org/doc/stable/reference/routines.math.html"
      ]
    },
    {
      "cell_type": "code",
      "execution_count": null,
      "id": "cc77e421",
      "metadata": {
        "id": "cc77e421"
      },
      "outputs": [],
      "source": []
    },
    {
      "cell_type": "markdown",
      "id": "c8e8daa0",
      "metadata": {
        "id": "c8e8daa0"
      },
      "source": [
        "#### Ejercicio 15: Convierte la lista `[1, 2, 3, 4, 5, 6, 7, 8, 9, 10, 11, 12]` en un array y transfórmalo en una matriz con filas de 3 columnas (★★★)"
      ]
    },
    {
      "cell_type": "code",
      "execution_count": null,
      "metadata": {
        "id": "lruaZuZbn93e"
      },
      "outputs": [],
      "source": [],
      "id": "lruaZuZbn93e"
    }
  ],
  "metadata": {
    "kernelspec": {
      "display_name": "Python 3",
      "language": "python",
      "name": "python3"
    },
    "language_info": {
      "codemirror_mode": {
        "name": "ipython",
        "version": 3
      },
      "file_extension": ".py",
      "mimetype": "text/x-python",
      "name": "python",
      "nbconvert_exporter": "python",
      "pygments_lexer": "ipython3",
      "version": "3.11.4"
    },
    "colab": {
      "provenance": [],
      "include_colab_link": true
    }
  },
  "nbformat": 4,
  "nbformat_minor": 5
}